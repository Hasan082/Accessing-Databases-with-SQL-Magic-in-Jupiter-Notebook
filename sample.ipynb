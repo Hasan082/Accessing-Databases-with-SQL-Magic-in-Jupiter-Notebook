{
 "cells": [
  {
   "metadata": {},
   "cell_type": "markdown",
   "source": "# SQL PROJECT IN JUPITER WITH MAGIC",
   "id": "29f4ef0bf56c9b2"
  },
  {
   "metadata": {
    "ExecuteTime": {
     "end_time": "2025-01-10T11:34:20.680491Z",
     "start_time": "2025-01-10T11:34:20.255260Z"
    }
   },
   "cell_type": "code",
   "source": "%load_ext sql",
   "id": "9146bb9376e7ee25",
   "outputs": [],
   "execution_count": 2
  },
  {
   "metadata": {
    "ExecuteTime": {
     "end_time": "2025-01-10T11:34:24.346068Z",
     "start_time": "2025-01-10T11:34:24.342142Z"
    }
   },
   "cell_type": "code",
   "source": [
    "import csv, sqlite3\n",
    "conn = sqlite3.connect('SQLiteMagic.db')\n",
    "cur = conn.cursor()"
   ],
   "id": "adf15d80702cbb58",
   "outputs": [],
   "execution_count": 3
  },
  {
   "metadata": {
    "ExecuteTime": {
     "end_time": "2025-01-10T11:34:31.239821Z",
     "start_time": "2025-01-10T11:34:31.236418Z"
    }
   },
   "cell_type": "code",
   "source": "%sql sqlite:///SQLiteMagic.db",
   "id": "da0e622a10b8a5a9",
   "outputs": [],
   "execution_count": 5
  },
  {
   "metadata": {
    "ExecuteTime": {
     "end_time": "2025-01-10T11:39:30.921650Z",
     "start_time": "2025-01-10T11:39:30.888378Z"
    }
   },
   "cell_type": "code",
   "source": [
    "%%sql\n",
    "\n",
    "CREATE TABLE INTERNATIONAL_STUDENTS_TEST_SCRORES (\n",
    "    country VARCHAR(50),\n",
    "    f_name VARCHAR(50),\n",
    "    l_name VARCHAR(50),\n",
    "    test_score INT\n",
    ");\n",
    "INSERT INTO INTERNATIONAL_STUDENTS_TEST_SCRORES (country , f_name, l_name, test_score)\n",
    "VALUES\n",
    "('United States', 'Marshall', 'Bernadot', 54),\n",
    "('Ghana', 'Celinda', 'Malkin', 51),\n",
    "('Ukraine', 'Guillermo', 'Furze', 53),\n",
    "('Greece', 'Aharon', 'Tunnow', 48),\n",
    "('Russia', 'Bail', 'Goodwin', 46),\n",
    "('Poland', 'Cole', 'Winteringham', 49),\n",
    "('Sweden', 'Emlyn', 'Erricker', 55),\n",
    "('Russia', 'Cathee', 'Sivewright', 49),\n",
    "('China', 'Barny', 'Ingerson', 57),\n",
    "('Uganda', 'Sharla', 'Papaccio', 55),\n",
    "('China', 'Stella', 'Youens', 51),\n",
    "('Poland', 'Julio', 'Buesden', 48),\n",
    "('United States', 'Tiffie', 'Cosely', 58),\n",
    "('Poland', 'Auroora', 'Stiffell', 45),\n",
    "('China', 'Clarita', 'Huet', 52),\n",
    "('Poland', 'Shannon', 'Goulden', 45),\n",
    "('Philippines', 'Emylee', 'Privost', 50),\n",
    "('France', 'Madelina', 'Burk', 49),\n",
    "('China', 'Saunderson', 'Root', 58),\n",
    "('Indonesia', 'Bo', 'Waring', 55),\n",
    "('China', 'Hollis', 'Domotor', 45),\n",
    "('Russia', 'Robbie', 'Collip', 46),\n",
    "('Philippines', 'Davon', 'Donisi', 46),\n",
    "('China', 'Cristabel', 'Radeliffe', 48),\n",
    "('China', 'Wallis', 'Bartleet', 58),\n",
    "('Moldova', 'Arleen', 'Stailey', 38),\n",
    "('Ireland', 'Mendel', 'Grumble', 58),\n",
    "('China', 'Sallyann', 'Exley', 51),\n",
    "('Mexico', 'Kain', 'Swaite', 46),\n",
    "('Indonesia', 'Alonso', 'Bulteel', 45),\n",
    "('Armenia', 'Anatol', 'Tankus', 51),\n",
    "('Indonesia', 'Coralyn', 'Dawkins', 48),\n",
    "('China', 'Deanne', 'Edwinson', 45),\n",
    "('China', 'Georgiana', 'Epple', 51),\n",
    "('Portugal', 'Bartlet', 'Breese', 56),\n",
    "('Azerbaijan', 'Idalina', 'Lukash', 50),\n",
    "('France', 'Livvie', 'Flory', 54),\n",
    "('Malaysia', 'Nonie', 'Borit', 48),\n",
    "('Indonesia', 'Clio', 'Mugg', 47),\n",
    "('Brazil', 'Westley', 'Measor', 48),\n",
    "('Philippines', 'Katrinka', 'Sibbert', 51),\n",
    "('Poland', 'Valentia', 'Mounch', 50),\n",
    "('Norway', 'Sheilah', 'Hedditch', 53),\n",
    "('Papua New Guinea', 'Itch', 'Jubb', 50),\n",
    "('Latvia', 'Stesha', 'Garnson', 53),\n",
    "('Canada', 'Cristionna', 'Wadmore', 46),\n",
    "('China', 'Lianna', 'Gatward', 43),\n",
    "('Guatemala', 'Tanney', 'Vials', 48),\n",
    "('France', 'Alma', 'Zavittieri', 44),\n",
    "('China', 'Alvira', 'Tamas', 50),\n",
    "('United States', 'Shanon', 'Peres', 45),\n",
    "('Sweden', 'Maisey', 'Lynas', 53),\n",
    "('Indonesia', 'Kip', 'Hothersall', 46),\n",
    "('China', 'Cash', 'Landis', 48),\n",
    "('Panama', 'Kennith', 'Digance', 45),\n",
    "('China', 'Ulberto', 'Riggeard', 48),\n",
    "('Switzerland', 'Judy', 'Gilligan', 49),\n",
    "('Philippines', 'Tod', 'Trevaskus', 52),\n",
    "('Brazil', 'Herold', 'Heggs', 44),\n",
    "('Latvia', 'Verney', 'Note', 50),\n",
    "('Poland', 'Temp', 'Ribey', 50),\n",
    "('China', 'Conroy', 'Egdal', 48),\n",
    "('Japan', 'Gabie', 'Alessandone', 47),\n",
    "('Ukraine', 'Devlen', 'Chaperlin', 54),\n",
    "('France', 'Babbette', 'Turner', 51),\n",
    "('Czech Republic', 'Virgil', 'Scotney', 52),\n",
    "('Tajikistan', 'Zorina', 'Bedow', 49),\n",
    "('China', 'Aidan', 'Rudeyeard', 50),\n",
    "('Ireland', 'Saunder', 'MacLice', 48),\n",
    "('France', 'Waly', 'Brunstan', 53),\n",
    "('China', 'Gisele', 'Enns', 52),\n",
    "('Peru', 'Mina', 'Winchester', 48),\n",
    "('Japan', 'Torie', 'MacShirrie', 50),\n",
    "('Russia', 'Benjamen', 'Kenford', 51),\n",
    "('China', 'Etan', 'Burn', 53),\n",
    "('Russia', 'Merralee', 'Chaperlin', 38),\n",
    "('Indonesia', 'Lanny', 'Malam', 49),\n",
    "('Canada', 'Wilhelm', 'Deeprose', 54),\n",
    "('Czech Republic', 'Lari', 'Hillhouse', 48),\n",
    "('China', 'Ossie', 'Woodley', 52),\n",
    "('Macedonia', 'April', 'Tyer', 50),\n",
    "('Vietnam', 'Madelon', 'Dansey', 53),\n",
    "('Ukraine', 'Korella', 'McNamee', 52),\n",
    "('Jamaica', 'Linnea', 'Cannam', 43),\n",
    "('China', 'Mart', 'Coling', 52),\n",
    "('Indonesia', 'Marna', 'Causbey', 47),\n",
    "('China', 'Berni', 'Daintier', 55),\n",
    "('Poland', 'Cynthia', 'Hassell', 49),\n",
    "('Canada', 'Carma', 'Schule', 49),\n",
    "('Indonesia', 'Malia', 'Blight', 48),\n",
    "('China', 'Paulo', 'Seivertsen', 47),\n",
    "('Niger', 'Kaylee', 'Hearley', 54),\n",
    "('Japan', 'Maure', 'Jandak', 46),\n",
    "('Argentina', 'Foss', 'Feavers', 45),\n",
    "('Venezuela', 'Ron', 'Leggitt', 60),\n",
    "('Russia', 'Flint', 'Gokes', 40),\n",
    "('China', 'Linet', 'Conelly', 52),\n",
    "('Philippines', 'Nikolas', 'Birtwell', 57),\n",
    "('Australia', 'Eduard', 'Leipelt', 53)"
   ],
   "id": "125c381b9e6d7a",
   "outputs": [
    {
     "name": "stdout",
     "output_type": "stream",
     "text": [
      " * sqlite:///SQLiteMagic.db\n",
      "Done.\n",
      "99 rows affected.\n"
     ]
    },
    {
     "data": {
      "text/plain": [
       "[]"
      ]
     },
     "execution_count": 6,
     "metadata": {},
     "output_type": "execute_result"
    }
   ],
   "execution_count": 6
  },
  {
   "metadata": {
    "ExecuteTime": {
     "end_time": "2025-01-10T11:44:37.072594Z",
     "start_time": "2025-01-10T11:44:37.059918Z"
    }
   },
   "cell_type": "code",
   "source": [
    "import prettytable\n",
    "prettytable.DEFAULT = 'DEFAULT'"
   ],
   "id": "a2ac64e7f08a7398",
   "outputs": [],
   "execution_count": 7
  },
  {
   "metadata": {
    "ExecuteTime": {
     "end_time": "2025-01-10T11:47:33.878579Z",
     "start_time": "2025-01-10T11:47:33.856458Z"
    }
   },
   "cell_type": "code",
   "source": [
    "country = 'Canada'\n",
    "res = %sql SELECT * FROM INTERNATIONAL_STUDENTS_TEST_SCRORES WHERE country = :country\n",
    "print(res)"
   ],
   "id": "27eaae46dfbce612",
   "outputs": [
    {
     "name": "stdout",
     "output_type": "stream",
     "text": [
      " * sqlite:///SQLiteMagic.db\n",
      "Done.\n",
      "+---------+------------+----------+------------+\n",
      "| country |   f_name   |  l_name  | test_score |\n",
      "+---------+------------+----------+------------+\n",
      "|  Canada | Cristionna | Wadmore  |     46     |\n",
      "|  Canada |  Wilhelm   | Deeprose |     54     |\n",
      "|  Canada |   Carma    |  Schule  |     49     |\n",
      "+---------+------------+----------+------------+\n"
     ]
    }
   ],
   "execution_count": 8
  },
  {
   "metadata": {
    "ExecuteTime": {
     "end_time": "2025-01-10T12:03:40.069875Z",
     "start_time": "2025-01-10T12:03:40.047230Z"
    }
   },
   "cell_type": "code",
   "source": [
    "import seaborn as sns\n",
    "\n",
    "test_score_data = %sql SELECT test_score as Test_Score, count(*) as FREQUENCY FROM INTERNATIONAL_STUDENTS_TEST_SCRORES GROUP BY test_score;\n",
    "df = test_score_data.DataFrame()\n",
    "print(df)"
   ],
   "id": "5bf089e4e86302be",
   "outputs": [
    {
     "name": "stdout",
     "output_type": "stream",
     "text": [
      " * sqlite:///SQLiteMagic.db\n",
      "Done.\n",
      "    Test_Score  FREQUENCY\n",
      "0           38          2\n",
      "1           40          1\n",
      "2           43          2\n",
      "3           44          2\n",
      "4           45          8\n",
      "5           46          7\n",
      "6           47          4\n",
      "7           48         14\n",
      "8           49          8\n",
      "9           50         10\n",
      "10          51          8\n",
      "11          52          8\n",
      "12          53          8\n",
      "13          54          5\n",
      "14          55          4\n",
      "15          56          1\n",
      "16          57          2\n",
      "17          58          4\n",
      "18          60          1\n"
     ]
    }
   ],
   "execution_count": 19
  },
  {
   "metadata": {
    "ExecuteTime": {
     "end_time": "2025-01-10T12:09:07.957083Z",
     "start_time": "2025-01-10T12:09:07.850087Z"
    }
   },
   "cell_type": "code",
   "source": [
    "plot = sns.barplot(x='Test_Score',y='FREQUENCY', data=df)\n",
    "plot.set_title(country)\n",
    "plot.set_xlabel('FREQUENCY')\n",
    "plot.set_ylabel('Test Score')"
   ],
   "id": "92e6a82e9a6ee956",
   "outputs": [
    {
     "data": {
      "text/plain": [
       "Text(0, 0.5, 'Test Score')"
      ]
     },
     "execution_count": 26,
     "metadata": {},
     "output_type": "execute_result"
    },
    {
     "data": {
      "text/plain": [
       "<Figure size 640x480 with 1 Axes>"
      ],
      "image/png": "[encoded data removed]"
     },
     "metadata": {},
     "output_type": "display_data"
    }
   ],
   "execution_count": 26
  }
 ],
 "metadata": {
  "kernelspec": {
   "display_name": "Python 3",
   "language": "python",
   "name": "python3"
  },
  "language_info": {
   "codemirror_mode": {
    "name": "ipython",
    "version": 2
   },
   "file_extension": ".py",
   "mimetype": "text/x-python",
   "name": "python",
   "nbconvert_exporter": "python",
   "pygments_lexer": "ipython2",
   "version": "2.7.6"
  }
 },
 "nbformat": 4,
 "nbformat_minor": 5
}
